{
  "nbformat": 4,
  "nbformat_minor": 0,
  "metadata": {
    "colab": {
      "provenance": [],
      "collapsed_sections": [],
      "authorship_tag": "ABX9TyP5cOdkp9WzSVvA5Hf4W5Gb",
      "include_colab_link": true
    },
    "kernelspec": {
      "name": "python3",
      "display_name": "Python 3"
    },
    "language_info": {
      "name": "python"
    }
  },
  "cells": [
    {
      "cell_type": "markdown",
      "metadata": {
        "id": "view-in-github",
        "colab_type": "text"
      },
      "source": [
        "<a href=\"https://colab.research.google.com/github/MariaMoraru/Dissertation/blob/main/KNeighbours%2Ble.ipynb\" target=\"_parent\"><img src=\"https://colab.research.google.com/assets/colab-badge.svg\" alt=\"Open In Colab\"/></a>"
      ]
    },
    {
      "cell_type": "code",
      "execution_count": 3,
      "metadata": {
        "id": "45ydudRCJC6C"
      },
      "outputs": [],
      "source": [
        "import numpy as np \n",
        "import pandas as pd\n",
        "import matplotlib.pyplot as plt\n",
        "import plotly.graph_objects as go\n",
        "import plotly.express as px\n",
        "import seaborn as sns\n",
        "import os\n",
        "for dirname, _, filenames in os.walk('/kaggle/input'):\n",
        "    for filename in filenames:\n",
        "        print(os.path.join(dirname, filename))"
      ]
    },
    {
      "cell_type": "code",
      "source": [
        "from google.colab import files\n",
        "uploaded = files.upload()"
      ],
      "metadata": {
        "colab": {
          "base_uri": "https://localhost:8080/",
          "height": 74
        },
        "id": "pMTu9WYfJJFn",
        "outputId": "4882d501-fbc7-4226-8fd2-5763cf590111"
      },
      "execution_count": 1,
      "outputs": [
        {
          "output_type": "display_data",
          "data": {
            "text/plain": [
              "<IPython.core.display.HTML object>"
            ],
            "text/html": [
              "\n",
              "     <input type=\"file\" id=\"files-99fa60b6-0de1-4069-ae51-b291ce5f2739\" name=\"files[]\" multiple disabled\n",
              "        style=\"border:none\" />\n",
              "     <output id=\"result-99fa60b6-0de1-4069-ae51-b291ce5f2739\">\n",
              "      Upload widget is only available when the cell has been executed in the\n",
              "      current browser session. Please rerun this cell to enable.\n",
              "      </output>\n",
              "      <script>// Copyright 2017 Google LLC\n",
              "//\n",
              "// Licensed under the Apache License, Version 2.0 (the \"License\");\n",
              "// you may not use this file except in compliance with the License.\n",
              "// You may obtain a copy of the License at\n",
              "//\n",
              "//      http://www.apache.org/licenses/LICENSE-2.0\n",
              "//\n",
              "// Unless required by applicable law or agreed to in writing, software\n",
              "// distributed under the License is distributed on an \"AS IS\" BASIS,\n",
              "// WITHOUT WARRANTIES OR CONDITIONS OF ANY KIND, either express or implied.\n",
              "// See the License for the specific language governing permissions and\n",
              "// limitations under the License.\n",
              "\n",
              "/**\n",
              " * @fileoverview Helpers for google.colab Python module.\n",
              " */\n",
              "(function(scope) {\n",
              "function span(text, styleAttributes = {}) {\n",
              "  const element = document.createElement('span');\n",
              "  element.textContent = text;\n",
              "  for (const key of Object.keys(styleAttributes)) {\n",
              "    element.style[key] = styleAttributes[key];\n",
              "  }\n",
              "  return element;\n",
              "}\n",
              "\n",
              "// Max number of bytes which will be uploaded at a time.\n",
              "const MAX_PAYLOAD_SIZE = 100 * 1024;\n",
              "\n",
              "function _uploadFiles(inputId, outputId) {\n",
              "  const steps = uploadFilesStep(inputId, outputId);\n",
              "  const outputElement = document.getElementById(outputId);\n",
              "  // Cache steps on the outputElement to make it available for the next call\n",
              "  // to uploadFilesContinue from Python.\n",
              "  outputElement.steps = steps;\n",
              "\n",
              "  return _uploadFilesContinue(outputId);\n",
              "}\n",
              "\n",
              "// This is roughly an async generator (not supported in the browser yet),\n",
              "// where there are multiple asynchronous steps and the Python side is going\n",
              "// to poll for completion of each step.\n",
              "// This uses a Promise to block the python side on completion of each step,\n",
              "// then passes the result of the previous step as the input to the next step.\n",
              "function _uploadFilesContinue(outputId) {\n",
              "  const outputElement = document.getElementById(outputId);\n",
              "  const steps = outputElement.steps;\n",
              "\n",
              "  const next = steps.next(outputElement.lastPromiseValue);\n",
              "  return Promise.resolve(next.value.promise).then((value) => {\n",
              "    // Cache the last promise value to make it available to the next\n",
              "    // step of the generator.\n",
              "    outputElement.lastPromiseValue = value;\n",
              "    return next.value.response;\n",
              "  });\n",
              "}\n",
              "\n",
              "/**\n",
              " * Generator function which is called between each async step of the upload\n",
              " * process.\n",
              " * @param {string} inputId Element ID of the input file picker element.\n",
              " * @param {string} outputId Element ID of the output display.\n",
              " * @return {!Iterable<!Object>} Iterable of next steps.\n",
              " */\n",
              "function* uploadFilesStep(inputId, outputId) {\n",
              "  const inputElement = document.getElementById(inputId);\n",
              "  inputElement.disabled = false;\n",
              "\n",
              "  const outputElement = document.getElementById(outputId);\n",
              "  outputElement.innerHTML = '';\n",
              "\n",
              "  const pickedPromise = new Promise((resolve) => {\n",
              "    inputElement.addEventListener('change', (e) => {\n",
              "      resolve(e.target.files);\n",
              "    });\n",
              "  });\n",
              "\n",
              "  const cancel = document.createElement('button');\n",
              "  inputElement.parentElement.appendChild(cancel);\n",
              "  cancel.textContent = 'Cancel upload';\n",
              "  const cancelPromise = new Promise((resolve) => {\n",
              "    cancel.onclick = () => {\n",
              "      resolve(null);\n",
              "    };\n",
              "  });\n",
              "\n",
              "  // Wait for the user to pick the files.\n",
              "  const files = yield {\n",
              "    promise: Promise.race([pickedPromise, cancelPromise]),\n",
              "    response: {\n",
              "      action: 'starting',\n",
              "    }\n",
              "  };\n",
              "\n",
              "  cancel.remove();\n",
              "\n",
              "  // Disable the input element since further picks are not allowed.\n",
              "  inputElement.disabled = true;\n",
              "\n",
              "  if (!files) {\n",
              "    return {\n",
              "      response: {\n",
              "        action: 'complete',\n",
              "      }\n",
              "    };\n",
              "  }\n",
              "\n",
              "  for (const file of files) {\n",
              "    const li = document.createElement('li');\n",
              "    li.append(span(file.name, {fontWeight: 'bold'}));\n",
              "    li.append(span(\n",
              "        `(${file.type || 'n/a'}) - ${file.size} bytes, ` +\n",
              "        `last modified: ${\n",
              "            file.lastModifiedDate ? file.lastModifiedDate.toLocaleDateString() :\n",
              "                                    'n/a'} - `));\n",
              "    const percent = span('0% done');\n",
              "    li.appendChild(percent);\n",
              "\n",
              "    outputElement.appendChild(li);\n",
              "\n",
              "    const fileDataPromise = new Promise((resolve) => {\n",
              "      const reader = new FileReader();\n",
              "      reader.onload = (e) => {\n",
              "        resolve(e.target.result);\n",
              "      };\n",
              "      reader.readAsArrayBuffer(file);\n",
              "    });\n",
              "    // Wait for the data to be ready.\n",
              "    let fileData = yield {\n",
              "      promise: fileDataPromise,\n",
              "      response: {\n",
              "        action: 'continue',\n",
              "      }\n",
              "    };\n",
              "\n",
              "    // Use a chunked sending to avoid message size limits. See b/62115660.\n",
              "    let position = 0;\n",
              "    do {\n",
              "      const length = Math.min(fileData.byteLength - position, MAX_PAYLOAD_SIZE);\n",
              "      const chunk = new Uint8Array(fileData, position, length);\n",
              "      position += length;\n",
              "\n",
              "      const base64 = btoa(String.fromCharCode.apply(null, chunk));\n",
              "      yield {\n",
              "        response: {\n",
              "          action: 'append',\n",
              "          file: file.name,\n",
              "          data: base64,\n",
              "        },\n",
              "      };\n",
              "\n",
              "      let percentDone = fileData.byteLength === 0 ?\n",
              "          100 :\n",
              "          Math.round((position / fileData.byteLength) * 100);\n",
              "      percent.textContent = `${percentDone}% done`;\n",
              "\n",
              "    } while (position < fileData.byteLength);\n",
              "  }\n",
              "\n",
              "  // All done.\n",
              "  yield {\n",
              "    response: {\n",
              "      action: 'complete',\n",
              "    }\n",
              "  };\n",
              "}\n",
              "\n",
              "scope.google = scope.google || {};\n",
              "scope.google.colab = scope.google.colab || {};\n",
              "scope.google.colab._files = {\n",
              "  _uploadFiles,\n",
              "  _uploadFilesContinue,\n",
              "};\n",
              "})(self);\n",
              "</script> "
            ]
          },
          "metadata": {}
        },
        {
          "output_type": "stream",
          "name": "stdout",
          "text": [
            "Saving Airlines.csv to Airlines.csv\n"
          ]
        }
      ]
    },
    {
      "cell_type": "code",
      "source": [
        "mydata = pd.read_csv('Airlines.csv')"
      ],
      "metadata": {
        "id": "xPBXC4zuJMPF"
      },
      "execution_count": 4,
      "outputs": []
    },
    {
      "cell_type": "code",
      "source": [
        "mydata.shape"
      ],
      "metadata": {
        "colab": {
          "base_uri": "https://localhost:8080/"
        },
        "id": "QSMZ6OzJORAo",
        "outputId": "5f92f8c0-c0c9-47bb-c080-b6b00bff7c8b"
      },
      "execution_count": null,
      "outputs": [
        {
          "output_type": "execute_result",
          "data": {
            "text/plain": [
              "(539383, 9)"
            ]
          },
          "metadata": {},
          "execution_count": 4
        }
      ]
    },
    {
      "cell_type": "code",
      "source": [
        "#create a dataframe with all training data except the target column\n",
        "X = mydata.drop(columns=['id', 'Airline','AirportFrom','AirportTo','Delay'])\n",
        "\n",
        "#check that the target variable has been removed\n",
        "X.head()"
      ],
      "metadata": {
        "id": "EbpUK2lZpe-X",
        "colab": {
          "base_uri": "https://localhost:8080/",
          "height": 206
        },
        "outputId": "c1c2490c-8d94-4eec-b919-c4485a526d65"
      },
      "execution_count": 5,
      "outputs": [
        {
          "output_type": "execute_result",
          "data": {
            "text/plain": [
              "   Flight  DayOfWeek  Time  Length\n",
              "0     269          3    15     205\n",
              "1    1558          3    15     222\n",
              "2    2400          3    20     165\n",
              "3    2466          3    20     195\n",
              "4     108          3    30     202"
            ],
            "text/html": [
              "\n",
              "  <div id=\"df-b66714da-67e7-43e0-8886-95421b9e170e\">\n",
              "    <div class=\"colab-df-container\">\n",
              "      <div>\n",
              "<style scoped>\n",
              "    .dataframe tbody tr th:only-of-type {\n",
              "        vertical-align: middle;\n",
              "    }\n",
              "\n",
              "    .dataframe tbody tr th {\n",
              "        vertical-align: top;\n",
              "    }\n",
              "\n",
              "    .dataframe thead th {\n",
              "        text-align: right;\n",
              "    }\n",
              "</style>\n",
              "<table border=\"1\" class=\"dataframe\">\n",
              "  <thead>\n",
              "    <tr style=\"text-align: right;\">\n",
              "      <th></th>\n",
              "      <th>Flight</th>\n",
              "      <th>DayOfWeek</th>\n",
              "      <th>Time</th>\n",
              "      <th>Length</th>\n",
              "    </tr>\n",
              "  </thead>\n",
              "  <tbody>\n",
              "    <tr>\n",
              "      <th>0</th>\n",
              "      <td>269</td>\n",
              "      <td>3</td>\n",
              "      <td>15</td>\n",
              "      <td>205</td>\n",
              "    </tr>\n",
              "    <tr>\n",
              "      <th>1</th>\n",
              "      <td>1558</td>\n",
              "      <td>3</td>\n",
              "      <td>15</td>\n",
              "      <td>222</td>\n",
              "    </tr>\n",
              "    <tr>\n",
              "      <th>2</th>\n",
              "      <td>2400</td>\n",
              "      <td>3</td>\n",
              "      <td>20</td>\n",
              "      <td>165</td>\n",
              "    </tr>\n",
              "    <tr>\n",
              "      <th>3</th>\n",
              "      <td>2466</td>\n",
              "      <td>3</td>\n",
              "      <td>20</td>\n",
              "      <td>195</td>\n",
              "    </tr>\n",
              "    <tr>\n",
              "      <th>4</th>\n",
              "      <td>108</td>\n",
              "      <td>3</td>\n",
              "      <td>30</td>\n",
              "      <td>202</td>\n",
              "    </tr>\n",
              "  </tbody>\n",
              "</table>\n",
              "</div>\n",
              "      <button class=\"colab-df-convert\" onclick=\"convertToInteractive('df-b66714da-67e7-43e0-8886-95421b9e170e')\"\n",
              "              title=\"Convert this dataframe to an interactive table.\"\n",
              "              style=\"display:none;\">\n",
              "        \n",
              "  <svg xmlns=\"http://www.w3.org/2000/svg\" height=\"24px\"viewBox=\"0 0 24 24\"\n",
              "       width=\"24px\">\n",
              "    <path d=\"M0 0h24v24H0V0z\" fill=\"none\"/>\n",
              "    <path d=\"M18.56 5.44l.94 2.06.94-2.06 2.06-.94-2.06-.94-.94-2.06-.94 2.06-2.06.94zm-11 1L8.5 8.5l.94-2.06 2.06-.94-2.06-.94L8.5 2.5l-.94 2.06-2.06.94zm10 10l.94 2.06.94-2.06 2.06-.94-2.06-.94-.94-2.06-.94 2.06-2.06.94z\"/><path d=\"M17.41 7.96l-1.37-1.37c-.4-.4-.92-.59-1.43-.59-.52 0-1.04.2-1.43.59L10.3 9.45l-7.72 7.72c-.78.78-.78 2.05 0 2.83L4 21.41c.39.39.9.59 1.41.59.51 0 1.02-.2 1.41-.59l7.78-7.78 2.81-2.81c.8-.78.8-2.07 0-2.86zM5.41 20L4 18.59l7.72-7.72 1.47 1.35L5.41 20z\"/>\n",
              "  </svg>\n",
              "      </button>\n",
              "      \n",
              "  <style>\n",
              "    .colab-df-container {\n",
              "      display:flex;\n",
              "      flex-wrap:wrap;\n",
              "      gap: 12px;\n",
              "    }\n",
              "\n",
              "    .colab-df-convert {\n",
              "      background-color: #E8F0FE;\n",
              "      border: none;\n",
              "      border-radius: 50%;\n",
              "      cursor: pointer;\n",
              "      display: none;\n",
              "      fill: #1967D2;\n",
              "      height: 32px;\n",
              "      padding: 0 0 0 0;\n",
              "      width: 32px;\n",
              "    }\n",
              "\n",
              "    .colab-df-convert:hover {\n",
              "      background-color: #E2EBFA;\n",
              "      box-shadow: 0px 1px 2px rgba(60, 64, 67, 0.3), 0px 1px 3px 1px rgba(60, 64, 67, 0.15);\n",
              "      fill: #174EA6;\n",
              "    }\n",
              "\n",
              "    [theme=dark] .colab-df-convert {\n",
              "      background-color: #3B4455;\n",
              "      fill: #D2E3FC;\n",
              "    }\n",
              "\n",
              "    [theme=dark] .colab-df-convert:hover {\n",
              "      background-color: #434B5C;\n",
              "      box-shadow: 0px 1px 3px 1px rgba(0, 0, 0, 0.15);\n",
              "      filter: drop-shadow(0px 1px 2px rgba(0, 0, 0, 0.3));\n",
              "      fill: #FFFFFF;\n",
              "    }\n",
              "  </style>\n",
              "\n",
              "      <script>\n",
              "        const buttonEl =\n",
              "          document.querySelector('#df-b66714da-67e7-43e0-8886-95421b9e170e button.colab-df-convert');\n",
              "        buttonEl.style.display =\n",
              "          google.colab.kernel.accessAllowed ? 'block' : 'none';\n",
              "\n",
              "        async function convertToInteractive(key) {\n",
              "          const element = document.querySelector('#df-b66714da-67e7-43e0-8886-95421b9e170e');\n",
              "          const dataTable =\n",
              "            await google.colab.kernel.invokeFunction('convertToInteractive',\n",
              "                                                     [key], {});\n",
              "          if (!dataTable) return;\n",
              "\n",
              "          const docLinkHtml = 'Like what you see? Visit the ' +\n",
              "            '<a target=\"_blank\" href=https://colab.research.google.com/notebooks/data_table.ipynb>data table notebook</a>'\n",
              "            + ' to learn more about interactive tables.';\n",
              "          element.innerHTML = '';\n",
              "          dataTable['output_type'] = 'display_data';\n",
              "          await google.colab.output.renderOutput(dataTable, element);\n",
              "          const docLink = document.createElement('div');\n",
              "          docLink.innerHTML = docLinkHtml;\n",
              "          element.appendChild(docLink);\n",
              "        }\n",
              "      </script>\n",
              "    </div>\n",
              "  </div>\n",
              "  "
            ]
          },
          "metadata": {},
          "execution_count": 5
        }
      ]
    },
    {
      "cell_type": "code",
      "source": [
        "#separate target values\n",
        "y = mydata['Delay'].values\n",
        "\n",
        "#view target values\n",
        "y[0:5]"
      ],
      "metadata": {
        "colab": {
          "base_uri": "https://localhost:8080/"
        },
        "id": "3EROhFxcR-UY",
        "outputId": "bd76a295-aa0f-4876-f00c-dd145e8940e9"
      },
      "execution_count": 6,
      "outputs": [
        {
          "output_type": "execute_result",
          "data": {
            "text/plain": [
              "array([1, 1, 1, 1, 0])"
            ]
          },
          "metadata": {},
          "execution_count": 6
        }
      ]
    },
    {
      "cell_type": "code",
      "source": [
        "mydata.isnull().values.any()"
      ],
      "metadata": {
        "colab": {
          "base_uri": "https://localhost:8080/"
        },
        "id": "kTPEiCX5femI",
        "outputId": "149f3dcb-e052-42af-fe1f-12c3bb9ad1fb"
      },
      "execution_count": 7,
      "outputs": [
        {
          "output_type": "execute_result",
          "data": {
            "text/plain": [
              "False"
            ]
          },
          "metadata": {},
          "execution_count": 7
        }
      ]
    },
    {
      "cell_type": "code",
      "source": [
        "from sklearn.model_selection import train_test_split\n",
        "\n",
        "#split dataset into train and test data\n",
        "X_train, X_test, y_train, y_test = train_test_split(X, y, test_size=0.2, random_state=1, stratify=y)"
      ],
      "metadata": {
        "id": "uwvC-T4rSVxj"
      },
      "execution_count": 8,
      "outputs": []
    },
    {
      "cell_type": "code",
      "source": [
        "X_train"
      ],
      "metadata": {
        "colab": {
          "base_uri": "https://localhost:8080/",
          "height": 424
        },
        "id": "tEgtpQM9Ucl7",
        "outputId": "c2ac21e5-f201-46ab-e5f4-30ab7a35b718"
      },
      "execution_count": 9,
      "outputs": [
        {
          "output_type": "execute_result",
          "data": {
            "text/plain": [
              "        Flight  DayOfWeek  Time  Length\n",
              "131753    6289          3   944      60\n",
              "178735     135          6   610      90\n",
              "290423    1693          5  1040     175\n",
              "104165    2956          2   390     324\n",
              "325078     465          7  1086     252\n",
              "...        ...        ...   ...     ...\n",
              "370333    1419          3   580     370\n",
              "18738      250          4   390      55\n",
              "502164    6545          3  1110     125\n",
              "387912    6981          4   526      57\n",
              "95238     5987          1   850     105\n",
              "\n",
              "[431506 rows x 4 columns]"
            ],
            "text/html": [
              "\n",
              "  <div id=\"df-f645e46a-8c02-4be1-a7a2-6df72cb29a50\">\n",
              "    <div class=\"colab-df-container\">\n",
              "      <div>\n",
              "<style scoped>\n",
              "    .dataframe tbody tr th:only-of-type {\n",
              "        vertical-align: middle;\n",
              "    }\n",
              "\n",
              "    .dataframe tbody tr th {\n",
              "        vertical-align: top;\n",
              "    }\n",
              "\n",
              "    .dataframe thead th {\n",
              "        text-align: right;\n",
              "    }\n",
              "</style>\n",
              "<table border=\"1\" class=\"dataframe\">\n",
              "  <thead>\n",
              "    <tr style=\"text-align: right;\">\n",
              "      <th></th>\n",
              "      <th>Flight</th>\n",
              "      <th>DayOfWeek</th>\n",
              "      <th>Time</th>\n",
              "      <th>Length</th>\n",
              "    </tr>\n",
              "  </thead>\n",
              "  <tbody>\n",
              "    <tr>\n",
              "      <th>131753</th>\n",
              "      <td>6289</td>\n",
              "      <td>3</td>\n",
              "      <td>944</td>\n",
              "      <td>60</td>\n",
              "    </tr>\n",
              "    <tr>\n",
              "      <th>178735</th>\n",
              "      <td>135</td>\n",
              "      <td>6</td>\n",
              "      <td>610</td>\n",
              "      <td>90</td>\n",
              "    </tr>\n",
              "    <tr>\n",
              "      <th>290423</th>\n",
              "      <td>1693</td>\n",
              "      <td>5</td>\n",
              "      <td>1040</td>\n",
              "      <td>175</td>\n",
              "    </tr>\n",
              "    <tr>\n",
              "      <th>104165</th>\n",
              "      <td>2956</td>\n",
              "      <td>2</td>\n",
              "      <td>390</td>\n",
              "      <td>324</td>\n",
              "    </tr>\n",
              "    <tr>\n",
              "      <th>325078</th>\n",
              "      <td>465</td>\n",
              "      <td>7</td>\n",
              "      <td>1086</td>\n",
              "      <td>252</td>\n",
              "    </tr>\n",
              "    <tr>\n",
              "      <th>...</th>\n",
              "      <td>...</td>\n",
              "      <td>...</td>\n",
              "      <td>...</td>\n",
              "      <td>...</td>\n",
              "    </tr>\n",
              "    <tr>\n",
              "      <th>370333</th>\n",
              "      <td>1419</td>\n",
              "      <td>3</td>\n",
              "      <td>580</td>\n",
              "      <td>370</td>\n",
              "    </tr>\n",
              "    <tr>\n",
              "      <th>18738</th>\n",
              "      <td>250</td>\n",
              "      <td>4</td>\n",
              "      <td>390</td>\n",
              "      <td>55</td>\n",
              "    </tr>\n",
              "    <tr>\n",
              "      <th>502164</th>\n",
              "      <td>6545</td>\n",
              "      <td>3</td>\n",
              "      <td>1110</td>\n",
              "      <td>125</td>\n",
              "    </tr>\n",
              "    <tr>\n",
              "      <th>387912</th>\n",
              "      <td>6981</td>\n",
              "      <td>4</td>\n",
              "      <td>526</td>\n",
              "      <td>57</td>\n",
              "    </tr>\n",
              "    <tr>\n",
              "      <th>95238</th>\n",
              "      <td>5987</td>\n",
              "      <td>1</td>\n",
              "      <td>850</td>\n",
              "      <td>105</td>\n",
              "    </tr>\n",
              "  </tbody>\n",
              "</table>\n",
              "<p>431506 rows × 4 columns</p>\n",
              "</div>\n",
              "      <button class=\"colab-df-convert\" onclick=\"convertToInteractive('df-f645e46a-8c02-4be1-a7a2-6df72cb29a50')\"\n",
              "              title=\"Convert this dataframe to an interactive table.\"\n",
              "              style=\"display:none;\">\n",
              "        \n",
              "  <svg xmlns=\"http://www.w3.org/2000/svg\" height=\"24px\"viewBox=\"0 0 24 24\"\n",
              "       width=\"24px\">\n",
              "    <path d=\"M0 0h24v24H0V0z\" fill=\"none\"/>\n",
              "    <path d=\"M18.56 5.44l.94 2.06.94-2.06 2.06-.94-2.06-.94-.94-2.06-.94 2.06-2.06.94zm-11 1L8.5 8.5l.94-2.06 2.06-.94-2.06-.94L8.5 2.5l-.94 2.06-2.06.94zm10 10l.94 2.06.94-2.06 2.06-.94-2.06-.94-.94-2.06-.94 2.06-2.06.94z\"/><path d=\"M17.41 7.96l-1.37-1.37c-.4-.4-.92-.59-1.43-.59-.52 0-1.04.2-1.43.59L10.3 9.45l-7.72 7.72c-.78.78-.78 2.05 0 2.83L4 21.41c.39.39.9.59 1.41.59.51 0 1.02-.2 1.41-.59l7.78-7.78 2.81-2.81c.8-.78.8-2.07 0-2.86zM5.41 20L4 18.59l7.72-7.72 1.47 1.35L5.41 20z\"/>\n",
              "  </svg>\n",
              "      </button>\n",
              "      \n",
              "  <style>\n",
              "    .colab-df-container {\n",
              "      display:flex;\n",
              "      flex-wrap:wrap;\n",
              "      gap: 12px;\n",
              "    }\n",
              "\n",
              "    .colab-df-convert {\n",
              "      background-color: #E8F0FE;\n",
              "      border: none;\n",
              "      border-radius: 50%;\n",
              "      cursor: pointer;\n",
              "      display: none;\n",
              "      fill: #1967D2;\n",
              "      height: 32px;\n",
              "      padding: 0 0 0 0;\n",
              "      width: 32px;\n",
              "    }\n",
              "\n",
              "    .colab-df-convert:hover {\n",
              "      background-color: #E2EBFA;\n",
              "      box-shadow: 0px 1px 2px rgba(60, 64, 67, 0.3), 0px 1px 3px 1px rgba(60, 64, 67, 0.15);\n",
              "      fill: #174EA6;\n",
              "    }\n",
              "\n",
              "    [theme=dark] .colab-df-convert {\n",
              "      background-color: #3B4455;\n",
              "      fill: #D2E3FC;\n",
              "    }\n",
              "\n",
              "    [theme=dark] .colab-df-convert:hover {\n",
              "      background-color: #434B5C;\n",
              "      box-shadow: 0px 1px 3px 1px rgba(0, 0, 0, 0.15);\n",
              "      filter: drop-shadow(0px 1px 2px rgba(0, 0, 0, 0.3));\n",
              "      fill: #FFFFFF;\n",
              "    }\n",
              "  </style>\n",
              "\n",
              "      <script>\n",
              "        const buttonEl =\n",
              "          document.querySelector('#df-f645e46a-8c02-4be1-a7a2-6df72cb29a50 button.colab-df-convert');\n",
              "        buttonEl.style.display =\n",
              "          google.colab.kernel.accessAllowed ? 'block' : 'none';\n",
              "\n",
              "        async function convertToInteractive(key) {\n",
              "          const element = document.querySelector('#df-f645e46a-8c02-4be1-a7a2-6df72cb29a50');\n",
              "          const dataTable =\n",
              "            await google.colab.kernel.invokeFunction('convertToInteractive',\n",
              "                                                     [key], {});\n",
              "          if (!dataTable) return;\n",
              "\n",
              "          const docLinkHtml = 'Like what you see? Visit the ' +\n",
              "            '<a target=\"_blank\" href=https://colab.research.google.com/notebooks/data_table.ipynb>data table notebook</a>'\n",
              "            + ' to learn more about interactive tables.';\n",
              "          element.innerHTML = '';\n",
              "          dataTable['output_type'] = 'display_data';\n",
              "          await google.colab.output.renderOutput(dataTable, element);\n",
              "          const docLink = document.createElement('div');\n",
              "          docLink.innerHTML = docLinkHtml;\n",
              "          element.appendChild(docLink);\n",
              "        }\n",
              "      </script>\n",
              "    </div>\n",
              "  </div>\n",
              "  "
            ]
          },
          "metadata": {},
          "execution_count": 9
        }
      ]
    },
    {
      "cell_type": "code",
      "source": [
        "y_train"
      ],
      "metadata": {
        "colab": {
          "base_uri": "https://localhost:8080/"
        },
        "id": "RnSA8C6gUjx6",
        "outputId": "ca06ce6e-5ef3-400e-ed60-7ce765dfc311"
      },
      "execution_count": 10,
      "outputs": [
        {
          "output_type": "execute_result",
          "data": {
            "text/plain": [
              "array([0, 0, 1, ..., 0, 1, 0])"
            ]
          },
          "metadata": {},
          "execution_count": 10
        }
      ]
    },
    {
      "cell_type": "code",
      "source": [
        "from sklearn.neighbors import KNeighborsClassifier\n",
        "# Create KNN classifier\n",
        "knn = KNeighborsClassifier(n_neighbors = 5)\n",
        "# Fit the classifier to the data\n",
        "knn.fit(X_train,y_train)"
      ],
      "metadata": {
        "id": "1QqWScV_Kd6K",
        "colab": {
          "base_uri": "https://localhost:8080/"
        },
        "outputId": "5bdeed5a-5ef1-48b2-dcd1-5471f2af9787"
      },
      "execution_count": 11,
      "outputs": [
        {
          "output_type": "execute_result",
          "data": {
            "text/plain": [
              "KNeighborsClassifier()"
            ]
          },
          "metadata": {},
          "execution_count": 11
        }
      ]
    },
    {
      "cell_type": "code",
      "source": [
        "#show model predictions on the test data\n",
        "knn.predict(X_test)"
      ],
      "metadata": {
        "colab": {
          "base_uri": "https://localhost:8080/"
        },
        "id": "tQyJsmHpVNsg",
        "outputId": "a421f657-397c-47f1-fd6e-9a50e613310a"
      },
      "execution_count": null,
      "outputs": [
        {
          "output_type": "execute_result",
          "data": {
            "text/plain": [
              "array([0, 1, 0, ..., 0, 0, 0])"
            ]
          },
          "metadata": {},
          "execution_count": 11
        }
      ]
    },
    {
      "cell_type": "code",
      "source": [
        "#check accuracy of our model on the test data\n",
        "knn.score(X_test, y_test)"
      ],
      "metadata": {
        "colab": {
          "base_uri": "https://localhost:8080/"
        },
        "id": "Wik5XNQzVdee",
        "outputId": "d204a330-ba8b-495e-a32e-0ce15fb6bc0d"
      },
      "execution_count": null,
      "outputs": [
        {
          "output_type": "execute_result",
          "data": {
            "text/plain": [
              "0.6414805750994188"
            ]
          },
          "metadata": {},
          "execution_count": 12
        }
      ]
    },
    {
      "cell_type": "code",
      "source": [
        "from sklearn.preprocessing import StandardScaler\n",
        "ss = StandardScaler()\n",
        "X_train = ss.fit_transform(X_train)\n",
        "X_test = ss.transform(X_test)"
      ],
      "metadata": {
        "id": "iUoVKICCyxNg"
      },
      "execution_count": 12,
      "outputs": []
    },
    {
      "cell_type": "code",
      "source": [
        "#predicting the test set results\n",
        "y_pred = knn.predict(X_test)\n",
        "#print(np.concatenate((y_pred.reshape(len(y_pred),1), y_test.reshape(len(y_test),1)),1))"
      ],
      "metadata": {
        "id": "vdbJ2Nttx9J2"
      },
      "execution_count": null,
      "outputs": []
    },
    {
      "cell_type": "code",
      "source": [
        "#making confusion matrix\n",
        "from sklearn.metrics import accuracy_score, confusion_matrix, classification_report\n",
        "accuracy_score(y_test, y_pred)   #prints the accuracy score"
      ],
      "metadata": {
        "colab": {
          "base_uri": "https://localhost:8080/"
        },
        "id": "O0igj2JYxzDa",
        "outputId": "6f68ac03-8444-4300-dee0-e0c7cd734bd0"
      },
      "execution_count": null,
      "outputs": [
        {
          "output_type": "execute_result",
          "data": {
            "text/plain": [
              "0.6414805750994188"
            ]
          },
          "metadata": {},
          "execution_count": 13
        }
      ]
    },
    {
      "cell_type": "code",
      "source": [
        "confusion_matrix(y_test, y_pred)"
      ],
      "metadata": {
        "colab": {
          "base_uri": "https://localhost:8080/"
        },
        "id": "MVXZ0iVW8eRT",
        "outputId": "4d231f03-ba76-4f67-b6d2-779996b5a63d"
      },
      "execution_count": null,
      "outputs": [
        {
          "output_type": "execute_result",
          "data": {
            "text/plain": [
              "array([[42478, 17346],\n",
              "       [21330, 26723]])"
            ]
          },
          "metadata": {},
          "execution_count": 14
        }
      ]
    },
    {
      "cell_type": "code",
      "source": [],
      "metadata": {
        "id": "l8rki9FbawKg"
      },
      "execution_count": null,
      "outputs": []
    },
    {
      "cell_type": "code",
      "source": [
        "print(classification_report(y_test, y_pred))"
      ],
      "metadata": {
        "colab": {
          "base_uri": "https://localhost:8080/"
        },
        "id": "nfSZIFKn8kmZ",
        "outputId": "717c7a29-846e-43f9-a27f-cfb1b0527fd2"
      },
      "execution_count": null,
      "outputs": [
        {
          "output_type": "stream",
          "name": "stdout",
          "text": [
            "              precision    recall  f1-score   support\n",
            "\n",
            "           0       0.67      0.71      0.69     59824\n",
            "           1       0.61      0.56      0.58     48053\n",
            "\n",
            "    accuracy                           0.64    107877\n",
            "   macro avg       0.64      0.63      0.63    107877\n",
            "weighted avg       0.64      0.64      0.64    107877\n",
            "\n"
          ]
        }
      ]
    },
    {
      "cell_type": "code",
      "source": [
        "sns.heatmap(X.corr(), annot = True)\n",
        "plt.show()"
      ],
      "metadata": {
        "colab": {
          "base_uri": "https://localhost:8080/",
          "height": 269
        },
        "id": "uETY5zbv0hSP",
        "outputId": "ec1607d7-72db-4498-fda9-416270242080"
      },
      "execution_count": null,
      "outputs": [
        {
          "output_type": "display_data",
          "data": {
            "text/plain": [
              "<Figure size 432x288 with 2 Axes>"
            ],
            "image/png": "[encoded data removed]"
          },
          "metadata": {
            "needs_background": "light"
          }
        }
      ]
    },
    {
      "cell_type": "code",
      "source": [
        "from sklearn.preprocessing import StandardScaler\n",
        "from sklearn.preprocessing import OneHotEncoder\n",
        "from sklearn.preprocessing import LabelEncoder"
      ],
      "metadata": {
        "id": "P9NyjCoivMm4"
      },
      "execution_count": 14,
      "outputs": []
    },
    {
      "cell_type": "code",
      "source": [
        "#create ndarray for label encoding (sklearn)\n",
        "Airline = mydata.iloc[:,1:2].values\n",
        "\n",
        "## le for Airline\n",
        "le = LabelEncoder()\n",
        "Airline[:,0] = le.fit_transform(Airline[:,0])\n",
        "Airline = pd.DataFrame(Airline)\n",
        "Airline.columns = ['Airline']\n",
        "le_Airline_mapping = dict(zip(le.classes_, le.transform(le.classes_)))\n",
        "print(\"Sklearn label encoder results for Airline:\") \n",
        "print(le_Airline_mapping)\n",
        "print(Airline[:18])"
      ],
      "metadata": {
        "id": "2YtUy7owRgii",
        "colab": {
          "base_uri": "https://localhost:8080/"
        },
        "outputId": "2b8d9bb4-1d05-4a08-eb9b-3db4ff45ce38"
      },
      "execution_count": 16,
      "outputs": [
        {
          "output_type": "stream",
          "name": "stdout",
          "text": [
            "Sklearn label encoder results for Airline:\n",
            "{'9E': 0, 'AA': 1, 'AS': 2, 'B6': 3, 'CO': 4, 'DL': 5, 'EV': 6, 'F9': 7, 'FL': 8, 'HA': 9, 'MQ': 10, 'OH': 11, 'OO': 12, 'UA': 13, 'US': 14, 'WN': 15, 'XE': 16, 'YV': 17}\n",
            "   Airline\n",
            "0        4\n",
            "1       14\n",
            "2        1\n",
            "3        1\n",
            "4        2\n",
            "5        4\n",
            "6        5\n",
            "7        5\n",
            "8        5\n",
            "9        1\n",
            "10       4\n",
            "11       5\n",
            "12       5\n",
            "13       1\n",
            "14       2\n",
            "15      14\n",
            "16       3\n",
            "17       4\n"
          ]
        }
      ]
    },
    {
      "cell_type": "code",
      "source": [
        "a = mydata['AirportFrom'].unique()\n",
        "print(len(a))\n",
        "a[:10]"
      ],
      "metadata": {
        "colab": {
          "base_uri": "https://localhost:8080/"
        },
        "id": "eshKu3PVxT64",
        "outputId": "81e9ebf8-b3d3-4637-c3fd-8a8d0fa05b37"
      },
      "execution_count": 17,
      "outputs": [
        {
          "output_type": "stream",
          "name": "stdout",
          "text": [
            "293\n"
          ]
        },
        {
          "output_type": "execute_result",
          "data": {
            "text/plain": [
              "array(['SFO', 'PHX', 'LAX', 'ANC', 'LAS', 'SLC', 'DEN', 'ONT', 'FAI',\n",
              "       'BQN'], dtype=object)"
            ]
          },
          "metadata": {},
          "execution_count": 17
        }
      ]
    },
    {
      "cell_type": "code",
      "source": [
        "#create ndarray for label encodoing (sklearn)\n",
        "AirportFrom = mydata.iloc[:,3:4].values\n",
        "\n",
        "## le for AirportFrom\n",
        "le = LabelEncoder()\n",
        "AirportFrom[:,0] = le.fit_transform(AirportFrom[:,0])\n",
        "AirportFrom = pd.DataFrame(AirportFrom)\n",
        "AirportFrom.columns = ['AirportFrom']\n",
        "le_AirportFrom_mapping = dict(zip(le.classes_, le.transform(le.classes_)))\n",
        "print(\"Sklearn label encoder results for AirportFrom:\") \n",
        "print(le_AirportFrom_mapping)\n",
        "print(AirportFrom[:10])"
      ],
      "metadata": {
        "id": "kVYYiSJORgzl",
        "colab": {
          "base_uri": "https://localhost:8080/"
        },
        "outputId": "2cbc485e-1f8d-4421-ca0e-b904b180e5b4"
      },
      "execution_count": 18,
      "outputs": [
        {
          "output_type": "stream",
          "name": "stdout",
          "text": [
            "Sklearn label encoder results for AirportFrom:\n",
            "{'ABE': 0, 'ABI': 1, 'ABQ': 2, 'ABR': 3, 'ABY': 4, 'ACT': 5, 'ACV': 6, 'ACY': 7, 'ADK': 8, 'ADQ': 9, 'AEX': 10, 'AGS': 11, 'ALB': 12, 'AMA': 13, 'ANC': 14, 'ASE': 15, 'ATL': 16, 'ATW': 17, 'AUS': 18, 'AVL': 19, 'AVP': 20, 'AZO': 21, 'BDL': 22, 'BET': 23, 'BFL': 24, 'BGM': 25, 'BGR': 26, 'BHM': 27, 'BIL': 28, 'BIS': 29, 'BKG': 30, 'BLI': 31, 'BMI': 32, 'BNA': 33, 'BOI': 34, 'BOS': 35, 'BQK': 36, 'BQN': 37, 'BRO': 38, 'BRW': 39, 'BTM': 40, 'BTR': 41, 'BTV': 42, 'BUF': 43, 'BUR': 44, 'BWI': 45, 'BZN': 46, 'CAE': 47, 'CAK': 48, 'CDC': 49, 'CDV': 50, 'CEC': 51, 'CHA': 52, 'CHO': 53, 'CHS': 54, 'CIC': 55, 'CID': 56, 'CLD': 57, 'CLE': 58, 'CLL': 59, 'CLT': 60, 'CMH': 61, 'CMI': 62, 'CMX': 63, 'COD': 64, 'COS': 65, 'COU': 66, 'CPR': 67, 'CRP': 68, 'CRW': 69, 'CSG': 70, 'CVG': 71, 'CWA': 72, 'CYS': 73, 'DAB': 74, 'DAL': 75, 'DAY': 76, 'DBQ': 77, 'DCA': 78, 'DEN': 79, 'DFW': 80, 'DHN': 81, 'DLH': 82, 'DRO': 83, 'DSM': 84, 'DTW': 85, 'EAU': 86, 'ECP': 87, 'EGE': 88, 'EKO': 89, 'ELM': 90, 'ELP': 91, 'ERI': 92, 'EUG': 93, 'EVV': 94, 'EWN': 95, 'EWR': 96, 'EYW': 97, 'FAI': 98, 'FAR': 99, 'FAT': 100, 'FAY': 101, 'FCA': 102, 'FLG': 103, 'FLL': 104, 'FLO': 105, 'FNT': 106, 'FSD': 107, 'FSM': 108, 'FWA': 109, 'GCC': 110, 'GEG': 111, 'GFK': 112, 'GGG': 113, 'GJT': 114, 'GNV': 115, 'GPT': 116, 'GRB': 117, 'GRK': 118, 'GRR': 119, 'GSO': 120, 'GSP': 121, 'GTF': 122, 'GTR': 123, 'GUC': 124, 'GUM': 125, 'HDN': 126, 'HLN': 127, 'HNL': 128, 'HOU': 129, 'HPN': 130, 'HRL': 131, 'HSV': 132, 'HTS': 133, 'IAD': 134, 'IAH': 135, 'ICT': 136, 'IDA': 137, 'ILM': 138, 'IND': 139, 'IPL': 140, 'ISP': 141, 'ITH': 142, 'ITO': 143, 'IYK': 144, 'JAC': 145, 'JAN': 146, 'JAX': 147, 'JFK': 148, 'JNU': 149, 'KOA': 150, 'KTN': 151, 'LAN': 152, 'LAS': 153, 'LAX': 154, 'LBB': 155, 'LCH': 156, 'LEX': 157, 'LFT': 158, 'LGA': 159, 'LGB': 160, 'LIH': 161, 'LIT': 162, 'LMT': 163, 'LNK': 164, 'LRD': 165, 'LSE': 166, 'LWB': 167, 'LWS': 168, 'LYH': 169, 'MAF': 170, 'MBS': 171, 'MCI': 172, 'MCO': 173, 'MDT': 174, 'MDW': 175, 'MEI': 176, 'MEM': 177, 'MFE': 178, 'MFR': 179, 'MGM': 180, 'MHK': 181, 'MHT': 182, 'MIA': 183, 'MKE': 184, 'MKG': 185, 'MLB': 186, 'MLI': 187, 'MLU': 188, 'MMH': 189, 'MOB': 190, 'MOD': 191, 'MOT': 192, 'MQT': 193, 'MRY': 194, 'MSN': 195, 'MSO': 196, 'MSP': 197, 'MSY': 198, 'MTJ': 199, 'MYR': 200, 'OAJ': 201, 'OAK': 202, 'OGG': 203, 'OKC': 204, 'OMA': 205, 'OME': 206, 'ONT': 207, 'ORD': 208, 'ORF': 209, 'OTH': 210, 'OTZ': 211, 'PAH': 212, 'PBI': 213, 'PDX': 214, 'PHF': 215, 'PHL': 216, 'PHX': 217, 'PIA': 218, 'PIE': 219, 'PIH': 220, 'PIT': 221, 'PLN': 222, 'PNS': 223, 'PSC': 224, 'PSE': 225, 'PSG': 226, 'PSP': 227, 'PVD': 228, 'PWM': 229, 'RAP': 230, 'RDD': 231, 'RDM': 232, 'RDU': 233, 'RIC': 234, 'RKS': 235, 'RNO': 236, 'ROA': 237, 'ROC': 238, 'ROW': 239, 'RST': 240, 'RSW': 241, 'SAF': 242, 'SAN': 243, 'SAT': 244, 'SAV': 245, 'SBA': 246, 'SBN': 247, 'SBP': 248, 'SCC': 249, 'SCE': 250, 'SDF': 251, 'SEA': 252, 'SFO': 253, 'SGF': 254, 'SGU': 255, 'SHV': 256, 'SIT': 257, 'SJC': 258, 'SJT': 259, 'SJU': 260, 'SLC': 261, 'SMF': 262, 'SMX': 263, 'SNA': 264, 'SPI': 265, 'SPS': 266, 'SRQ': 267, 'STL': 268, 'STT': 269, 'STX': 270, 'SUN': 271, 'SWF': 272, 'SYR': 273, 'TEX': 274, 'TLH': 275, 'TOL': 276, 'TPA': 277, 'TRI': 278, 'TUL': 279, 'TUS': 280, 'TVC': 281, 'TWF': 282, 'TXK': 283, 'TYR': 284, 'TYS': 285, 'UTM': 286, 'VLD': 287, 'VPS': 288, 'WRG': 289, 'XNA': 290, 'YAK': 291, 'YUM': 292}\n",
            "  AirportFrom\n",
            "0         253\n",
            "1         217\n",
            "2         154\n",
            "3         253\n",
            "4          14\n",
            "5         154\n",
            "6         154\n",
            "7         217\n",
            "8         253\n",
            "9         153\n"
          ]
        }
      ]
    },
    {
      "cell_type": "code",
      "source": [
        "a = mydata['AirportTo'].unique()\n",
        "print(len(a))"
      ],
      "metadata": {
        "colab": {
          "base_uri": "https://localhost:8080/"
        },
        "id": "aSlw17Z7xi-O",
        "outputId": "6386898d-6178-48ab-ed1f-44ae67567671"
      },
      "execution_count": null,
      "outputs": [
        {
          "output_type": "stream",
          "name": "stdout",
          "text": [
            "293\n"
          ]
        }
      ]
    },
    {
      "cell_type": "code",
      "source": [
        "#create ndarray for label encodoing (sklearn)\n",
        "AirportTo = mydata.iloc[:,4:5].values\n",
        "## le for AirportTo\n",
        "le = LabelEncoder()\n",
        "AirportTo[:,0] = le.fit_transform(AirportTo[:,0])\n",
        "AirportTo = pd.DataFrame(AirportTo)\n",
        "AirportTo.columns = ['AirportTo']\n",
        "le_AirportTo_mapping = dict(zip(le.classes_, le.transform(le.classes_)))\n",
        "print(\"Sklearn label encoder results for AirportTo:\") \n",
        "print(le_AirportTo_mapping)\n",
        "print(AirportTo[:10])"
      ],
      "metadata": {
        "colab": {
          "base_uri": "https://localhost:8080/"
        },
        "id": "7uPNeog-yCgv",
        "outputId": "ae8e2bac-40d3-4fc6-b84f-8b2756a5eb8b"
      },
      "execution_count": 19,
      "outputs": [
        {
          "output_type": "stream",
          "name": "stdout",
          "text": [
            "Sklearn label encoder results for AirportTo:\n",
            "{'ABE': 0, 'ABI': 1, 'ABQ': 2, 'ABR': 3, 'ABY': 4, 'ACT': 5, 'ACV': 6, 'ACY': 7, 'ADK': 8, 'ADQ': 9, 'AEX': 10, 'AGS': 11, 'ALB': 12, 'AMA': 13, 'ANC': 14, 'ASE': 15, 'ATL': 16, 'ATW': 17, 'AUS': 18, 'AVL': 19, 'AVP': 20, 'AZO': 21, 'BDL': 22, 'BET': 23, 'BFL': 24, 'BGM': 25, 'BGR': 26, 'BHM': 27, 'BIL': 28, 'BIS': 29, 'BKG': 30, 'BLI': 31, 'BMI': 32, 'BNA': 33, 'BOI': 34, 'BOS': 35, 'BQK': 36, 'BQN': 37, 'BRO': 38, 'BRW': 39, 'BTM': 40, 'BTR': 41, 'BTV': 42, 'BUF': 43, 'BUR': 44, 'BWI': 45, 'BZN': 46, 'CAE': 47, 'CAK': 48, 'CDC': 49, 'CDV': 50, 'CEC': 51, 'CHA': 52, 'CHO': 53, 'CHS': 54, 'CIC': 55, 'CID': 56, 'CLD': 57, 'CLE': 58, 'CLL': 59, 'CLT': 60, 'CMH': 61, 'CMI': 62, 'CMX': 63, 'COD': 64, 'COS': 65, 'COU': 66, 'CPR': 67, 'CRP': 68, 'CRW': 69, 'CSG': 70, 'CVG': 71, 'CWA': 72, 'CYS': 73, 'DAB': 74, 'DAL': 75, 'DAY': 76, 'DBQ': 77, 'DCA': 78, 'DEN': 79, 'DFW': 80, 'DHN': 81, 'DLH': 82, 'DRO': 83, 'DSM': 84, 'DTW': 85, 'EAU': 86, 'ECP': 87, 'EGE': 88, 'EKO': 89, 'ELM': 90, 'ELP': 91, 'ERI': 92, 'EUG': 93, 'EVV': 94, 'EWN': 95, 'EWR': 96, 'EYW': 97, 'FAI': 98, 'FAR': 99, 'FAT': 100, 'FAY': 101, 'FCA': 102, 'FLG': 103, 'FLL': 104, 'FLO': 105, 'FNT': 106, 'FSD': 107, 'FSM': 108, 'FWA': 109, 'GCC': 110, 'GEG': 111, 'GFK': 112, 'GGG': 113, 'GJT': 114, 'GNV': 115, 'GPT': 116, 'GRB': 117, 'GRK': 118, 'GRR': 119, 'GSO': 120, 'GSP': 121, 'GTF': 122, 'GTR': 123, 'GUC': 124, 'GUM': 125, 'HDN': 126, 'HLN': 127, 'HNL': 128, 'HOU': 129, 'HPN': 130, 'HRL': 131, 'HSV': 132, 'HTS': 133, 'IAD': 134, 'IAH': 135, 'ICT': 136, 'IDA': 137, 'ILM': 138, 'IND': 139, 'IPL': 140, 'ISP': 141, 'ITH': 142, 'ITO': 143, 'IYK': 144, 'JAC': 145, 'JAN': 146, 'JAX': 147, 'JFK': 148, 'JNU': 149, 'KOA': 150, 'KTN': 151, 'LAN': 152, 'LAS': 153, 'LAX': 154, 'LBB': 155, 'LCH': 156, 'LEX': 157, 'LFT': 158, 'LGA': 159, 'LGB': 160, 'LIH': 161, 'LIT': 162, 'LMT': 163, 'LNK': 164, 'LRD': 165, 'LSE': 166, 'LWB': 167, 'LWS': 168, 'LYH': 169, 'MAF': 170, 'MBS': 171, 'MCI': 172, 'MCO': 173, 'MDT': 174, 'MDW': 175, 'MEI': 176, 'MEM': 177, 'MFE': 178, 'MFR': 179, 'MGM': 180, 'MHK': 181, 'MHT': 182, 'MIA': 183, 'MKE': 184, 'MKG': 185, 'MLB': 186, 'MLI': 187, 'MLU': 188, 'MMH': 189, 'MOB': 190, 'MOD': 191, 'MOT': 192, 'MQT': 193, 'MRY': 194, 'MSN': 195, 'MSO': 196, 'MSP': 197, 'MSY': 198, 'MTJ': 199, 'MYR': 200, 'OAJ': 201, 'OAK': 202, 'OGG': 203, 'OKC': 204, 'OMA': 205, 'OME': 206, 'ONT': 207, 'ORD': 208, 'ORF': 209, 'OTH': 210, 'OTZ': 211, 'PAH': 212, 'PBI': 213, 'PDX': 214, 'PHF': 215, 'PHL': 216, 'PHX': 217, 'PIA': 218, 'PIE': 219, 'PIH': 220, 'PIT': 221, 'PLN': 222, 'PNS': 223, 'PSC': 224, 'PSE': 225, 'PSG': 226, 'PSP': 227, 'PVD': 228, 'PWM': 229, 'RAP': 230, 'RDD': 231, 'RDM': 232, 'RDU': 233, 'RIC': 234, 'RKS': 235, 'RNO': 236, 'ROA': 237, 'ROC': 238, 'ROW': 239, 'RST': 240, 'RSW': 241, 'SAF': 242, 'SAN': 243, 'SAT': 244, 'SAV': 245, 'SBA': 246, 'SBN': 247, 'SBP': 248, 'SCC': 249, 'SCE': 250, 'SDF': 251, 'SEA': 252, 'SFO': 253, 'SGF': 254, 'SGU': 255, 'SHV': 256, 'SIT': 257, 'SJC': 258, 'SJT': 259, 'SJU': 260, 'SLC': 261, 'SMF': 262, 'SMX': 263, 'SNA': 264, 'SPI': 265, 'SPS': 266, 'SRQ': 267, 'STL': 268, 'STT': 269, 'STX': 270, 'SUN': 271, 'SWF': 272, 'SYR': 273, 'TEX': 274, 'TLH': 275, 'TOL': 276, 'TPA': 277, 'TRI': 278, 'TUL': 279, 'TUS': 280, 'TVC': 281, 'TWF': 282, 'TXK': 283, 'TYR': 284, 'TYS': 285, 'UTM': 286, 'VLD': 287, 'VPS': 288, 'WRG': 289, 'XNA': 290, 'YAK': 291, 'YUM': 292}\n",
            "  AirportTo\n",
            "0       135\n",
            "1        60\n",
            "2        80\n",
            "3        80\n",
            "4       252\n",
            "5       135\n",
            "6       197\n",
            "7        85\n",
            "8       197\n",
            "9       208\n"
          ]
        }
      ]
    },
    {
      "cell_type": "code",
      "source": [
        "from sklearn.linear_model import LogisticRegression   #imports the LogisticRegression class from the linear_module of the sklearn library\n",
        "model = LogisticRegression()   #creates an object of the LogisticRegression class and names is model\n",
        "model.fit(X_train, y_train)   #uses the created object to fit a Logisitc Regression model on the training data"
      ],
      "metadata": {
        "id": "kmqKpUkj31SG",
        "colab": {
          "base_uri": "https://localhost:8080/"
        },
        "outputId": "d7ce606f-e8bf-4c68-d252-85cf8d5956f5"
      },
      "execution_count": null,
      "outputs": [
        {
          "output_type": "execute_result",
          "data": {
            "text/plain": [
              "LogisticRegression()"
            ]
          },
          "metadata": {},
          "execution_count": 25
        }
      ]
    }
  ]
}